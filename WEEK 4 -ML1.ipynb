{
 "cells": [
  {
   "cell_type": "markdown",
   "id": "d860348c",
   "metadata": {},
   "source": [
    "# LIST\n",
    "It is a collection of elements or data types in sequential order"
   ]
  },
  {
   "cell_type": "code",
   "execution_count": 31,
   "id": "179b2737",
   "metadata": {},
   "outputs": [
    {
     "data": {
      "text/plain": [
       "[1, 'hello', True]"
      ]
     },
     "execution_count": 31,
     "metadata": {},
     "output_type": "execute_result"
    }
   ],
   "source": [
    "#LIST\n",
    "sample=[1,\"hello\",True]\n",
    "sample\n"
   ]
  },
  {
   "cell_type": "markdown",
   "id": "7c5d8a3a",
   "metadata": {},
   "source": [
    "# INDEXING AND SLICING"
   ]
  },
  {
   "cell_type": "code",
   "execution_count": 32,
   "id": "d6880b63",
   "metadata": {},
   "outputs": [
    {
     "data": {
      "text/plain": [
       "1"
      ]
     },
     "execution_count": 32,
     "metadata": {},
     "output_type": "execute_result"
    }
   ],
   "source": [
    "sample[0]"
   ]
  },
  {
   "cell_type": "code",
   "execution_count": 33,
   "id": "c6685d65",
   "metadata": {},
   "outputs": [
    {
     "data": {
      "text/plain": [
       "[1, 'hello', True]"
      ]
     },
     "execution_count": 33,
     "metadata": {},
     "output_type": "execute_result"
    }
   ],
   "source": [
    "sample[0:4]# from 0 to last-1 index"
   ]
  },
  {
   "cell_type": "markdown",
   "id": "0a4fef87",
   "metadata": {},
   "source": [
    "# MODIFYING METHOD"
   ]
  },
  {
   "cell_type": "code",
   "execution_count": 34,
   "id": "7a89932f",
   "metadata": {},
   "outputs": [
    {
     "data": {
      "text/plain": [
       "[1, 'hello', True, 1, 1, 5]"
      ]
     },
     "execution_count": 34,
     "metadata": {},
     "output_type": "execute_result"
    }
   ],
   "source": [
    "#.append() for add value at last\n",
    "sample.append(1)\n",
    "sample.append(1)\n",
    "sample.append(5)\n",
    "sample"
   ]
  },
  {
   "cell_type": "code",
   "execution_count": 35,
   "id": "46de867a",
   "metadata": {},
   "outputs": [
    {
     "data": {
      "text/plain": [
       "[1, 'hello', 'VICKY', True, 1, 1, 5]"
      ]
     },
     "execution_count": 35,
     "metadata": {},
     "output_type": "execute_result"
    }
   ],
   "source": [
    "# ,insert for adding element at specific position\n",
    "sample.insert(2,\"VICKY\")#at index 2 add  VICKY\n",
    "sample"
   ]
  },
  {
   "cell_type": "code",
   "execution_count": 36,
   "id": "66ff0b95",
   "metadata": {},
   "outputs": [
    {
     "data": {
      "text/plain": [
       "[1, 2, 3, 4, 5, 1, 2, 3, 4, 8]"
      ]
     },
     "execution_count": 36,
     "metadata": {},
     "output_type": "execute_result"
    }
   ],
   "source": [
    "#.extend for adding two list \n",
    "list1= [1,2,3,4,5]\n",
    "list2=[1,2,3,4,8]\n",
    "list1.extend(list2)\n",
    "list1"
   ]
  },
  {
   "cell_type": "markdown",
   "id": "fea79c2d",
   "metadata": {},
   "source": [
    "# LIST OPERATION"
   ]
  },
  {
   "cell_type": "code",
   "execution_count": 37,
   "id": "6c3cfad9",
   "metadata": {},
   "outputs": [
    {
     "data": {
      "text/plain": [
       "[1, 2, 3, 4, 5, 1, 2, 3, 4, 8]"
      ]
     },
     "execution_count": 37,
     "metadata": {},
     "output_type": "execute_result"
    }
   ],
   "source": [
    "#.concatenation by +\n",
    "list1= [1,2,3,4,5]\n",
    "list2=[1,2,3,4,8]\n",
    "list3= list1+list2 #here we stored value in new variable\n",
    "list3"
   ]
  },
  {
   "cell_type": "code",
   "execution_count": 38,
   "id": "c729b115",
   "metadata": {},
   "outputs": [
    {
     "name": "stdout",
     "output_type": "stream",
     "text": [
      "VICKY is founded in list\n"
     ]
    }
   ],
   "source": [
    "# membership operation for checking wethere some item is present in list or not\n",
    "list1= [\"HI, This is\", \"VICKY\",\"From\", 3,\"Year\"]\n",
    "find =\"VICKY\"\n",
    "if find in list1:\n",
    "    print(f'{find} is founded in list')\n",
    "else:\n",
    "    print(\"not found\")"
   ]
  },
  {
   "cell_type": "code",
   "execution_count": 39,
   "id": "57d528d7",
   "metadata": {},
   "outputs": [
    {
     "data": {
      "text/plain": [
       "[0, 0, 0, 0, 0]"
      ]
     },
     "execution_count": 39,
     "metadata": {},
     "output_type": "execute_result"
    }
   ],
   "source": [
    "# repetation operator\n",
    "zeros=[0]*5 # in list we are initialist 5 times zeros\n",
    "zeros"
   ]
  },
  {
   "cell_type": "code",
   "execution_count": 40,
   "id": "888b8095",
   "metadata": {},
   "outputs": [
    {
     "data": {
      "text/plain": [
       "['Large', 'Medium', 'Small']"
      ]
     },
     "execution_count": 40,
     "metadata": {},
     "output_type": "execute_result"
    }
   ],
   "source": [
    "#.copy\n",
    "import copy\n",
    "pizza=[\"Large\",\"Medium\",\"Small\"]\n",
    "new_pizza=copy.copy(pizza)\n",
    "new_pizza"
   ]
  },
  {
   "cell_type": "code",
   "execution_count": 41,
   "id": "13bb385c",
   "metadata": {},
   "outputs": [
    {
     "data": {
      "text/plain": [
       "[1, 1, 2, 2, 3, 3, 4, 4, 5, 8]"
      ]
     },
     "execution_count": 41,
     "metadata": {},
     "output_type": "execute_result"
    }
   ],
   "source": [
    "#sorting\n",
    "new_sorting=sorted(list3)# list 3 from above example\n",
    "new_sorting"
   ]
  },
  {
   "cell_type": "code",
   "execution_count": null,
   "id": "8b6bdbc7",
   "metadata": {},
   "outputs": [],
   "source": []
  }
 ],
 "metadata": {
  "kernelspec": {
   "display_name": "Python 3 (ipykernel)",
   "language": "python",
   "name": "python3"
  },
  "language_info": {
   "codemirror_mode": {
    "name": "ipython",
    "version": 3
   },
   "file_extension": ".py",
   "mimetype": "text/x-python",
   "name": "python",
   "nbconvert_exporter": "python",
   "pygments_lexer": "ipython3",
   "version": "3.11.4"
  }
 },
 "nbformat": 4,
 "nbformat_minor": 5
}
